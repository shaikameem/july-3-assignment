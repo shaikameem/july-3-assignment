{
 "cells": [
  {
   "cell_type": "code",
   "execution_count": 4,
   "id": "c004e3d6",
   "metadata": {},
   "outputs": [],
   "source": [
    "## replace\n",
    "## syntax s.replace(oldstring,newstring)"
   ]
  },
  {
   "cell_type": "code",
   "execution_count": null,
   "id": "1fb8c7d6",
   "metadata": {},
   "outputs": [],
   "source": []
  },
  {
   "cell_type": "code",
   "execution_count": 5,
   "id": "ecefa64a",
   "metadata": {},
   "outputs": [
    {
     "name": "stdout",
     "output_type": "stream",
     "text": [
      "ravi is very powerfull\n",
      "ram is very powerfull\n"
     ]
    }
   ],
   "source": [
    "a=\"ram is very powerfull\"\n",
    "print(a.replace(\"ram\",\"ravi\"))\n",
    "print(a)"
   ]
  },
  {
   "cell_type": "code",
   "execution_count": 6,
   "id": "b6cb836e",
   "metadata": {},
   "outputs": [
    {
     "name": "stdout",
     "output_type": "stream",
     "text": [
      "ravi is very powerfull\n"
     ]
    }
   ],
   "source": [
    "a=\"ram is very powerfull\"\n",
    "b=a.replace(\"ram\",\"ravi\")\n",
    "print(b)"
   ]
  },
  {
   "cell_type": "code",
   "execution_count": 7,
   "id": "edcc170f",
   "metadata": {},
   "outputs": [
    {
     "name": "stdout",
     "output_type": "stream",
     "text": [
      "ram is very powerfull\n",
      "ravi is very powerfull\n"
     ]
    }
   ],
   "source": [
    "a=\"ram is very powerfull\"\n",
    "b=a.replace(\"ram\",\"ravi\")\n",
    "print(a)\n",
    "print(b)"
   ]
  },
  {
   "cell_type": "code",
   "execution_count": 9,
   "id": "ba13da68",
   "metadata": {},
   "outputs": [
    {
     "name": "stdout",
     "output_type": "stream",
     "text": [
      "bbbbbbbbbbbbbbbbbb\n"
     ]
    }
   ],
   "source": [
    "s=\"abbabbabbbabababab\"\n",
    "s=s.replace(\"a\",\"b\")\n",
    "print(s)"
   ]
  },
  {
   "cell_type": "code",
   "execution_count": null,
   "id": "ee36a721",
   "metadata": {},
   "outputs": [],
   "source": []
  },
  {
   "cell_type": "code",
   "execution_count": 10,
   "id": "a53e566f",
   "metadata": {},
   "outputs": [],
   "source": [
    "## split"
   ]
  },
  {
   "cell_type": "code",
   "execution_count": null,
   "id": "31033567",
   "metadata": {},
   "outputs": [],
   "source": []
  },
  {
   "cell_type": "code",
   "execution_count": 11,
   "id": "dbe6ea6c",
   "metadata": {},
   "outputs": [
    {
     "name": "stdout",
     "output_type": "stream",
     "text": [
      "['python,is,very', 'hard']\n"
     ]
    }
   ],
   "source": [
    "s=\"python,is,very hard\"\n",
    "l=s.split()\n",
    "print(l)"
   ]
  },
  {
   "cell_type": "code",
   "execution_count": 12,
   "id": "e92e2703",
   "metadata": {},
   "outputs": [
    {
     "name": "stdout",
     "output_type": "stream",
     "text": [
      "['python', 'is', 'very hard']\n"
     ]
    }
   ],
   "source": [
    "s=\"python,is,very hard\"\n",
    "l=s.split(\",\")\n",
    "print(l)"
   ]
  },
  {
   "cell_type": "code",
   "execution_count": 13,
   "id": "abc06888",
   "metadata": {},
   "outputs": [
    {
     "name": "stdout",
     "output_type": "stream",
     "text": [
      "['python:is:very hard']\n"
     ]
    }
   ],
   "source": [
    "s=\"python:is:very hard\"\n",
    "l=s.split(\",\")\n",
    "print(l)"
   ]
  },
  {
   "cell_type": "code",
   "execution_count": 14,
   "id": "87735593",
   "metadata": {},
   "outputs": [
    {
     "name": "stdout",
     "output_type": "stream",
     "text": [
      "['python', 'is', 'very', 'hard']\n",
      "python is very hard "
     ]
    }
   ],
   "source": [
    "s=\"python is very hard\"\n",
    "l=s.split()\n",
    "print(l)\n",
    "for i in l:\n",
    "    print(i,end=\" \")"
   ]
  },
  {
   "cell_type": "code",
   "execution_count": 15,
   "id": "fabaf586",
   "metadata": {},
   "outputs": [
    {
     "name": "stdout",
     "output_type": "stream",
     "text": [
      "['10', '20', '30', '40,50,60,70']\n"
     ]
    }
   ],
   "source": [
    "s=\"10,20,30,40,50,60,70\"\n",
    "l=s.split(\",\",3)\n",
    "print(l)"
   ]
  },
  {
   "cell_type": "code",
   "execution_count": 16,
   "id": "752fe938",
   "metadata": {},
   "outputs": [
    {
     "name": "stdout",
     "output_type": "stream",
     "text": [
      "['10', '20', '30', '40,50,60,70']\n"
     ]
    }
   ],
   "source": [
    "s=\"10,20,30,40,50,60,70\"\n",
    "l=s.split(\",\",3)\n",
    "print(l)\n",
    "# for i in l:\n",
    "#     print(i,end=\" \")"
   ]
  },
  {
   "cell_type": "code",
   "execution_count": null,
   "id": "eec33348",
   "metadata": {},
   "outputs": [],
   "source": []
  },
  {
   "cell_type": "code",
   "execution_count": 18,
   "id": "1b0ef027",
   "metadata": {},
   "outputs": [],
   "source": [
    "## join\n",
    "## s=seperator.join(list)"
   ]
  },
  {
   "cell_type": "code",
   "execution_count": null,
   "id": "6618ff28",
   "metadata": {},
   "outputs": [],
   "source": []
  },
  {
   "cell_type": "code",
   "execution_count": 20,
   "id": "dbdce8de",
   "metadata": {},
   "outputs": [
    {
     "name": "stdout",
     "output_type": "stream",
     "text": [
      "ram:is:a:whiskey:boy\n"
     ]
    }
   ],
   "source": [
    "l=[\"ram\",\"is\",\"a\",\"whiskey\",\"boy\"]\n",
    "s=\":\".join(l)\n",
    "print(s)"
   ]
  },
  {
   "cell_type": "code",
   "execution_count": 21,
   "id": "7bfc7126",
   "metadata": {},
   "outputs": [
    {
     "name": "stdout",
     "output_type": "stream",
     "text": [
      "ram   is   a   whiskey   boy\n"
     ]
    }
   ],
   "source": [
    "l=[\"ram\",\"is\",\"a\",\"whiskey\",\"boy\"]\n",
    "s=\"   \".join(l)\n",
    "print(s)"
   ]
  },
  {
   "cell_type": "code",
   "execution_count": 2,
   "id": "bc275f21",
   "metadata": {},
   "outputs": [
    {
     "name": "stdout",
     "output_type": "stream",
     "text": [
      "ameem:shaik\n"
     ]
    }
   ],
   "source": [
    "l=[\"ameem\", \"shaik\"]\n",
    "s=\":\".join(l)\n",
    "print(s)"
   ]
  },
  {
   "cell_type": "code",
   "execution_count": 3,
   "id": "e0d25041",
   "metadata": {},
   "outputs": [
    {
     "name": "stdout",
     "output_type": "stream",
     "text": [
      "python   sql\n"
     ]
    }
   ],
   "source": [
    "l=[\"python\",\"sql\"]\n",
    "s=\"   \".join(l)\n",
    "print(s)"
   ]
  },
  {
   "cell_type": "code",
   "execution_count": null,
   "id": "5c70b4b3",
   "metadata": {},
   "outputs": [],
   "source": []
  }
 ],
 "metadata": {
  "kernelspec": {
   "display_name": "Python 3 (ipykernel)",
   "language": "python",
   "name": "python3"
  },
  "language_info": {
   "codemirror_mode": {
    "name": "ipython",
    "version": 3
   },
   "file_extension": ".py",
   "mimetype": "text/x-python",
   "name": "python",
   "nbconvert_exporter": "python",
   "pygments_lexer": "ipython3",
   "version": "3.10.9"
  }
 },
 "nbformat": 4,
 "nbformat_minor": 5
}
